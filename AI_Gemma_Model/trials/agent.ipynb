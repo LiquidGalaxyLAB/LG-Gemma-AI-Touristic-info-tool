{
 "cells": [
  {
   "cell_type": "code",
   "execution_count": 56,
   "metadata": {},
   "outputs": [
    {
     "name": "stdout",
     "output_type": "stream",
     "text": [
      "Requirement already satisfied: nest-asyncio in e:\\mahydolphin\\gsoc-2024-lg\\coding_period\\repo\\lg-gemma-ai-touristic-info-tool\\ai_gemma_model\\gsoc_venv\\lib\\site-packages (1.6.0)\n"
     ]
    },
    {
     "name": "stderr",
     "output_type": "stream",
     "text": [
      "\n",
      "[notice] A new release of pip is available: 23.0.1 -> 24.0\n",
      "[notice] To update, run: python.exe -m pip install --upgrade pip\n"
     ]
    }
   ],
   "source": [
    "!pip install nest-asyncio\n",
    "import nest_asyncio\n",
    "nest_asyncio.apply()"
   ]
  },
  {
   "cell_type": "code",
   "execution_count": 57,
   "metadata": {},
   "outputs": [],
   "source": [
    "\n",
    "import os\n",
    "import dotenv , getpass\n",
    "\n",
    "dotenv.load_dotenv()\n",
    "\n",
    "# os.environ[\"LANGCHAIN_TRACING_V2\"] = \"true\"\n",
    "# os.environ[\"LANGCHAIN_API_KEY\"] = getpass.getpass()\n",
    "\n",
    "\n",
    "import bs4\n",
    "from langchain import hub\n",
    "from langchain_community.document_loaders import WebBaseLoader\n",
    "from langchain_chroma import Chroma\n",
    "from langchain_core.output_parsers import StrOutputParser\n",
    "from langchain_core.runnables import RunnablePassthrough\n",
    "from langchain_text_splitters import RecursiveCharacterTextSplitter\n",
    "from langchain_community.llms import Ollama\n",
    "from langchain_community.embeddings import OllamaEmbeddings\n",
    "from langchain_core.prompts import PromptTemplate\n",
    "import time\n",
    "import requests\n",
    "from bs4 import BeautifulSoup as soup\n",
    "import urllib.parse\n",
    "from langchain_community.document_loaders import AsyncChromiumLoader\n",
    "from langchain_community.document_transformers import Html2TextTransformer\n"
   ]
  },
  {
   "cell_type": "code",
   "execution_count": 58,
   "metadata": {},
   "outputs": [],
   "source": [
    "\n",
    "embeddings = (\n",
    "    OllamaEmbeddings(model=\"all-minilm\")\n",
    ")  \n",
    "llm = Ollama(model=\"gemma:7b\")"
   ]
  },
  {
   "cell_type": "code",
   "execution_count": 59,
   "metadata": {},
   "outputs": [
    {
     "name": "stdout",
     "output_type": "stream",
     "text": [
      "Best+pizza+places+in+Cairo+Egypt\n",
      "seed_url: https://www.google.com/search?q=Best+pizza+places+in+Cairo+Egypt\n"
     ]
    }
   ],
   "source": [
    "question=\"Best pizza places in Cairo Egypt\"\n",
    "\n",
    "words = question.split()\n",
    "url_search = '+'.join(words)\n",
    "print(url_search)\n",
    "\n",
    "seed_url=f'https://www.google.com/search?q={url_search}'\n",
    "# google_maps_url=f'https://www.google.com/maps/search/{url_search}'\n",
    "print('seed_url:',seed_url)\n",
    "# print('google_maps_url:',google_maps_url)\n",
    "\n",
    "\n",
    "general_fetched_urls=[]\n",
    "# all_fetched_urls=[]"
   ]
  },
  {
   "cell_type": "code",
   "execution_count": 60,
   "metadata": {},
   "outputs": [
    {
     "name": "stdout",
     "output_type": "stream",
     "text": [
      "https://maps.google.com/maps?q=Best+pizza+places+in+Cairo+Egypt&um=1&ie=UTF-8&ved=1t:200713&ictx=111&rct=j&q=&esrc=s&opi=89978449&sa=U\n",
      "200\n",
      "https://www.tripadvisor.com/Restaurants-g294201-c31-Cairo_Cairo_Governorate.html\n",
      "200\n",
      "https://top10cairo.com/best-pizza-cairo/\n",
      "520\n",
      "https://maps.google.com/maps?um=1&ie=UTF-8&fb=1&gl=eg&sa=X&q=Best+pizza+places+in+Cairo+Egypt&ved=1t:200245&ictx=111\n",
      "200\n",
      "https://sceneeats.com/Spots/A-SceneEats-Guide-to-the-Best-Authentic-Pizza-Spots-in-Cairo\n",
      "200\n",
      "https://www.egypttoday.com/Article/6/129900/Top-5-Neapolitan-Pizza-Places-in-Cairo\n",
      "200\n",
      "https://rahetbally.com/en/read/articles/best-pizza-places-in-cairo\n",
      "200\n",
      "https://tourteller.com/blog/best-pizza-places-in-cairo/\n",
      "200\n",
      "https://lovin.co/cairo/en/latest/top-pizza-spots-in-cairo-that-you-wont-want-to-miss/\n",
      "200\n",
      "https://www.talabat.com/egypt/cuisine/pizza\n",
      "200\n",
      "https://www.cairo360.com/article/restaurants/these-restaurants-are-serving-up-cairos-best-pizzas/\n",
      "200\n",
      "https://curlsenroute.com/pizza-in-cairo-a-quest-for-the-most-authentic-margherita/\n",
      "200\n",
      "https://support.google.com/websearch?p=ws_settings_location&hl=ar&rct=j&q=&esrc=s&opi=89978449&sa=U\n",
      "200\n",
      "https://accounts.google.com/ServiceLogin?continue=https://www.google.com/search%3Fq%3DBest%2Bpizza%2Bplaces%2Bin%2BCairo%2BEgypt&hl=ar&rct=j&q=&esrc=s&opi=89978449&sa=U\n",
      "200\n"
     ]
    }
   ],
   "source": [
    "# headers = {\n",
    "#     'User-Agent': 'Mozilla/5.0 (Windows NT 10.0; Win64; x64) AppleWebKit/537.36 (KHTML, like Gecko) Chrome/58.0.3029.110 Safari/537.3'}\n",
    "\n",
    "headers = {\n",
    "    \"User-Agent\": \"Mozilla/5.0 (Windows NT 10.0; Win64; x64) AppleWebKit/537.36 (KHTML, like Gecko) Chrome/58.0.3029.110 Safari/537.3\",\n",
    "    \"Accept-Language\": \"en-US,en;q=0.5\",\n",
    "    \"Referer\": \"https://www.google.com/\",\n",
    "}\n",
    "response = requests.get(seed_url, headers=headers)\n",
    "if response.status_code == 200:\n",
    "    page_content = response.text\n",
    "    \n",
    "    # Parse HTML content\n",
    "    sp = soup(page_content, 'html.parser')\n",
    "    \n",
    "    # Find all <a> tags and extract URLs\n",
    "     # Find all <a> tags and extract URLs\n",
    "    for a_tag in sp.find_all('a', href=True):\n",
    "        link = a_tag['href']\n",
    "\n",
    "        # Check if the link contains 'url=' and '&ved'\n",
    "        if 'url=' in link and '&ved=' in link:\n",
    "            # Extract the part after 'url='\n",
    "            url_part = link.split('url=')[1]\n",
    "            # Find the position of '&ved=' and slice the URL up to that position\n",
    "            url = url_part.split('&ved=')[0]\n",
    "            # Decode the URL to handle any URL encoding\n",
    "            decoded_url = urllib.parse.unquote(url)\n",
    "            \n",
    "            # Ensure the URL starts with 'https://'\n",
    "            if decoded_url.startswith('https://'):\n",
    "                print(decoded_url)\n",
    "                # scraped_urls.append(decoded_url)\n",
    "                try:\n",
    "                    # Try to make a request to the URL to check for SSL certificate validity\n",
    "                    r = requests.get(decoded_url, headers=headers, verify=True, timeout=20)\n",
    "                    # If the request is successful and no SSL errors are raised, add the URL to the list\n",
    "                    print(r.status_code)\n",
    "                    if r.status_code == 200 or r.status_code == 520:\n",
    "                        general_fetched_urls.append(decoded_url)\n",
    "                except requests.exceptions.SSLError:\n",
    "                    # SSL certificate is not valid\n",
    "                    print(f\"SSL Error for URL: {link}\")\n",
    "                except requests.exceptions.RequestException as e:\n",
    "                    # Handle other request exceptions (timeouts, connection errors, etc.)\n",
    "                    print(f\"Request Exception for URL: {link}, Error: {e}\")\n",
    "\n",
    "\n"
   ]
  },
  {
   "cell_type": "code",
   "execution_count": 61,
   "metadata": {},
   "outputs": [
    {
     "name": "stdout",
     "output_type": "stream",
     "text": [
      "General fetched Urls:\n",
      "['https://maps.google.com/maps?q=Best+pizza+places+in+Cairo+Egypt&um=1&ie=UTF-8&ved=1t:200713&ictx=111&rct=j&q=&esrc=s&opi=89978449&sa=U', 'https://www.tripadvisor.com/Restaurants-g294201-c31-Cairo_Cairo_Governorate.html', 'https://top10cairo.com/best-pizza-cairo/', 'https://maps.google.com/maps?um=1&ie=UTF-8&fb=1&gl=eg&sa=X&q=Best+pizza+places+in+Cairo+Egypt&ved=1t:200245&ictx=111', 'https://sceneeats.com/Spots/A-SceneEats-Guide-to-the-Best-Authentic-Pizza-Spots-in-Cairo', 'https://www.egypttoday.com/Article/6/129900/Top-5-Neapolitan-Pizza-Places-in-Cairo', 'https://rahetbally.com/en/read/articles/best-pizza-places-in-cairo', 'https://tourteller.com/blog/best-pizza-places-in-cairo/', 'https://lovin.co/cairo/en/latest/top-pizza-spots-in-cairo-that-you-wont-want-to-miss/', 'https://www.talabat.com/egypt/cuisine/pizza', 'https://www.cairo360.com/article/restaurants/these-restaurants-are-serving-up-cairos-best-pizzas/', 'https://curlsenroute.com/pizza-in-cairo-a-quest-for-the-most-authentic-margherita/', 'https://support.google.com/websearch?p=ws_settings_location&hl=ar&rct=j&q=&esrc=s&opi=89978449&sa=U', 'https://accounts.google.com/ServiceLogin?continue=https://www.google.com/search%3Fq%3DBest%2Bpizza%2Bplaces%2Bin%2BCairo%2BEgypt&hl=ar&rct=j&q=&esrc=s&opi=89978449&sa=U']\n",
      "---------------------------------\n"
     ]
    }
   ],
   "source": [
    "\n",
    "# Display the scraped URLs\n",
    "print('General fetched Urls:')\n",
    "print(general_fetched_urls)\n",
    "# all_fetched_urls.extend(general_fetched_urls)\n",
    "# all_fetched_urls.extend(google_maps_url)\n",
    "\n",
    "# print('All fetched Urls:')\n",
    "# # print(all_fetched_urls)\n",
    "print(\"---------------------------------\")\n"
   ]
  },
  {
   "cell_type": "code",
   "execution_count": 62,
   "metadata": {},
   "outputs": [],
   "source": [
    "start_time = time.time()"
   ]
  },
  {
   "cell_type": "code",
   "execution_count": 63,
   "metadata": {},
   "outputs": [
    {
     "name": "stderr",
     "output_type": "stream",
     "text": [
      "Task exception was never retrieved\n",
      "future: <Task finished name='Task-2' coro=<Connection.run() done, defined at e:\\MahyDolphin\\Gsoc-2024-lg\\Coding_Period\\REPO\\LG-Gemma-AI-Touristic-info-tool\\AI_Gemma_Model\\gsoc_venv\\lib\\site-packages\\playwright\\_impl\\_connection.py:265> exception=NotImplementedError()>\n",
      "Traceback (most recent call last):\n",
      "  File \"C:\\Users\\Mahinour Elsarky\\.pyenv\\pyenv-win\\versions\\3.10.11\\lib\\asyncio\\tasks.py\", line 232, in __step\n",
      "    result = coro.send(None)\n",
      "  File \"e:\\MahyDolphin\\Gsoc-2024-lg\\Coding_Period\\REPO\\LG-Gemma-AI-Touristic-info-tool\\AI_Gemma_Model\\gsoc_venv\\lib\\site-packages\\playwright\\_impl\\_connection.py\", line 272, in run\n",
      "    await self._transport.connect()\n",
      "  File \"e:\\MahyDolphin\\Gsoc-2024-lg\\Coding_Period\\REPO\\LG-Gemma-AI-Touristic-info-tool\\AI_Gemma_Model\\gsoc_venv\\lib\\site-packages\\playwright\\_impl\\_transport.py\", line 133, in connect\n",
      "    raise exc\n",
      "  File \"e:\\MahyDolphin\\Gsoc-2024-lg\\Coding_Period\\REPO\\LG-Gemma-AI-Touristic-info-tool\\AI_Gemma_Model\\gsoc_venv\\lib\\site-packages\\playwright\\_impl\\_transport.py\", line 120, in connect\n",
      "    self._proc = await asyncio.create_subprocess_exec(\n",
      "  File \"C:\\Users\\Mahinour Elsarky\\.pyenv\\pyenv-win\\versions\\3.10.11\\lib\\asyncio\\subprocess.py\", line 218, in create_subprocess_exec\n",
      "    transport, protocol = await loop.subprocess_exec(\n",
      "  File \"C:\\Users\\Mahinour Elsarky\\.pyenv\\pyenv-win\\versions\\3.10.11\\lib\\asyncio\\base_events.py\", line 1681, in subprocess_exec\n",
      "    transport = await self._make_subprocess_transport(\n",
      "  File \"C:\\Users\\Mahinour Elsarky\\.pyenv\\pyenv-win\\versions\\3.10.11\\lib\\asyncio\\base_events.py\", line 498, in _make_subprocess_transport\n",
      "    raise NotImplementedError\n",
      "NotImplementedError\n",
      "C:\\Users\\Mahinour Elsarky\\.pyenv\\pyenv-win\\versions\\3.10.11\\lib\\ast.py:50: RuntimeWarning: coroutine 'AsyncChromiumLoader.ascrape_playwright' was never awaited\n",
      "  return compile(source, filename, mode, flags,\n",
      "RuntimeWarning: Enable tracemalloc to get the object allocation traceback\n"
     ]
    },
    {
     "ename": "NotImplementedError",
     "evalue": "",
     "output_type": "error",
     "traceback": [
      "\u001b[1;31m---------------------------------------------------------------------------\u001b[0m",
      "\u001b[1;31mNotImplementedError\u001b[0m                       Traceback (most recent call last)",
      "Cell \u001b[1;32mIn[63], line 2\u001b[0m\n\u001b[0;32m      1\u001b[0m loader \u001b[38;5;241m=\u001b[39m  AsyncChromiumLoader(general_fetched_urls, user_agent\u001b[38;5;241m=\u001b[39m\u001b[38;5;124m\"\u001b[39m\u001b[38;5;124mMyAppUserAgent\u001b[39m\u001b[38;5;124m\"\u001b[39m,)\n\u001b[1;32m----> 2\u001b[0m docs\u001b[38;5;241m=\u001b[39m  \u001b[43mloader\u001b[49m\u001b[38;5;241;43m.\u001b[39;49m\u001b[43mload\u001b[49m\u001b[43m(\u001b[49m\u001b[43m)\u001b[49m\n\u001b[0;32m      3\u001b[0m \u001b[38;5;28mprint\u001b[39m(\u001b[38;5;28mlen\u001b[39m(docs))\n",
      "File \u001b[1;32me:\\MahyDolphin\\Gsoc-2024-lg\\Coding_Period\\REPO\\LG-Gemma-AI-Touristic-info-tool\\AI_Gemma_Model\\gsoc_venv\\lib\\site-packages\\langchain_core\\document_loaders\\base.py:29\u001b[0m, in \u001b[0;36mBaseLoader.load\u001b[1;34m(self)\u001b[0m\n\u001b[0;32m     27\u001b[0m \u001b[38;5;28;01mdef\u001b[39;00m \u001b[38;5;21mload\u001b[39m(\u001b[38;5;28mself\u001b[39m) \u001b[38;5;241m-\u001b[39m\u001b[38;5;241m>\u001b[39m List[Document]:\n\u001b[0;32m     28\u001b[0m \u001b[38;5;250m    \u001b[39m\u001b[38;5;124;03m\"\"\"Load data into Document objects.\"\"\"\u001b[39;00m\n\u001b[1;32m---> 29\u001b[0m     \u001b[38;5;28;01mreturn\u001b[39;00m \u001b[38;5;28;43mlist\u001b[39;49m\u001b[43m(\u001b[49m\u001b[38;5;28;43mself\u001b[39;49m\u001b[38;5;241;43m.\u001b[39;49m\u001b[43mlazy_load\u001b[49m\u001b[43m(\u001b[49m\u001b[43m)\u001b[49m\u001b[43m)\u001b[49m\n",
      "File \u001b[1;32me:\\MahyDolphin\\Gsoc-2024-lg\\Coding_Period\\REPO\\LG-Gemma-AI-Touristic-info-tool\\AI_Gemma_Model\\gsoc_venv\\lib\\site-packages\\langchain_community\\document_loaders\\chromium.py:85\u001b[0m, in \u001b[0;36mAsyncChromiumLoader.lazy_load\u001b[1;34m(self)\u001b[0m\n\u001b[0;32m     74\u001b[0m \u001b[38;5;250m\u001b[39m\u001b[38;5;124;03m\"\"\"\u001b[39;00m\n\u001b[0;32m     75\u001b[0m \u001b[38;5;124;03mLazily load text content from the provided URLs.\u001b[39;00m\n\u001b[0;32m     76\u001b[0m \n\u001b[1;32m   (...)\u001b[0m\n\u001b[0;32m     82\u001b[0m \n\u001b[0;32m     83\u001b[0m \u001b[38;5;124;03m\"\"\"\u001b[39;00m\n\u001b[0;32m     84\u001b[0m \u001b[38;5;28;01mfor\u001b[39;00m url \u001b[38;5;129;01min\u001b[39;00m \u001b[38;5;28mself\u001b[39m\u001b[38;5;241m.\u001b[39murls:\n\u001b[1;32m---> 85\u001b[0m     html_content \u001b[38;5;241m=\u001b[39m \u001b[43masyncio\u001b[49m\u001b[38;5;241;43m.\u001b[39;49m\u001b[43mrun\u001b[49m\u001b[43m(\u001b[49m\u001b[38;5;28;43mself\u001b[39;49m\u001b[38;5;241;43m.\u001b[39;49m\u001b[43mascrape_playwright\u001b[49m\u001b[43m(\u001b[49m\u001b[43murl\u001b[49m\u001b[43m)\u001b[49m\u001b[43m)\u001b[49m\n\u001b[0;32m     86\u001b[0m     metadata \u001b[38;5;241m=\u001b[39m {\u001b[38;5;124m\"\u001b[39m\u001b[38;5;124msource\u001b[39m\u001b[38;5;124m\"\u001b[39m: url}\n\u001b[0;32m     87\u001b[0m     \u001b[38;5;28;01myield\u001b[39;00m Document(page_content\u001b[38;5;241m=\u001b[39mhtml_content, metadata\u001b[38;5;241m=\u001b[39mmetadata)\n",
      "File \u001b[1;32me:\\MahyDolphin\\Gsoc-2024-lg\\Coding_Period\\REPO\\LG-Gemma-AI-Touristic-info-tool\\AI_Gemma_Model\\gsoc_venv\\lib\\site-packages\\nest_asyncio.py:30\u001b[0m, in \u001b[0;36m_patch_asyncio.<locals>.run\u001b[1;34m(main, debug)\u001b[0m\n\u001b[0;32m     28\u001b[0m task \u001b[38;5;241m=\u001b[39m asyncio\u001b[38;5;241m.\u001b[39mensure_future(main)\n\u001b[0;32m     29\u001b[0m \u001b[38;5;28;01mtry\u001b[39;00m:\n\u001b[1;32m---> 30\u001b[0m     \u001b[38;5;28;01mreturn\u001b[39;00m \u001b[43mloop\u001b[49m\u001b[38;5;241;43m.\u001b[39;49m\u001b[43mrun_until_complete\u001b[49m\u001b[43m(\u001b[49m\u001b[43mtask\u001b[49m\u001b[43m)\u001b[49m\n\u001b[0;32m     31\u001b[0m \u001b[38;5;28;01mfinally\u001b[39;00m:\n\u001b[0;32m     32\u001b[0m     \u001b[38;5;28;01mif\u001b[39;00m \u001b[38;5;129;01mnot\u001b[39;00m task\u001b[38;5;241m.\u001b[39mdone():\n",
      "File \u001b[1;32me:\\MahyDolphin\\Gsoc-2024-lg\\Coding_Period\\REPO\\LG-Gemma-AI-Touristic-info-tool\\AI_Gemma_Model\\gsoc_venv\\lib\\site-packages\\nest_asyncio.py:98\u001b[0m, in \u001b[0;36m_patch_loop.<locals>.run_until_complete\u001b[1;34m(self, future)\u001b[0m\n\u001b[0;32m     95\u001b[0m \u001b[38;5;28;01mif\u001b[39;00m \u001b[38;5;129;01mnot\u001b[39;00m f\u001b[38;5;241m.\u001b[39mdone():\n\u001b[0;32m     96\u001b[0m     \u001b[38;5;28;01mraise\u001b[39;00m \u001b[38;5;167;01mRuntimeError\u001b[39;00m(\n\u001b[0;32m     97\u001b[0m         \u001b[38;5;124m'\u001b[39m\u001b[38;5;124mEvent loop stopped before Future completed.\u001b[39m\u001b[38;5;124m'\u001b[39m)\n\u001b[1;32m---> 98\u001b[0m \u001b[38;5;28;01mreturn\u001b[39;00m \u001b[43mf\u001b[49m\u001b[38;5;241;43m.\u001b[39;49m\u001b[43mresult\u001b[49m\u001b[43m(\u001b[49m\u001b[43m)\u001b[49m\n",
      "File \u001b[1;32m~\\.pyenv\\pyenv-win\\versions\\3.10.11\\lib\\asyncio\\futures.py:201\u001b[0m, in \u001b[0;36mFuture.result\u001b[1;34m(self)\u001b[0m\n\u001b[0;32m    199\u001b[0m \u001b[38;5;28mself\u001b[39m\u001b[38;5;241m.\u001b[39m__log_traceback \u001b[38;5;241m=\u001b[39m \u001b[38;5;28;01mFalse\u001b[39;00m\n\u001b[0;32m    200\u001b[0m \u001b[38;5;28;01mif\u001b[39;00m \u001b[38;5;28mself\u001b[39m\u001b[38;5;241m.\u001b[39m_exception \u001b[38;5;129;01mis\u001b[39;00m \u001b[38;5;129;01mnot\u001b[39;00m \u001b[38;5;28;01mNone\u001b[39;00m:\n\u001b[1;32m--> 201\u001b[0m     \u001b[38;5;28;01mraise\u001b[39;00m \u001b[38;5;28mself\u001b[39m\u001b[38;5;241m.\u001b[39m_exception\u001b[38;5;241m.\u001b[39mwith_traceback(\u001b[38;5;28mself\u001b[39m\u001b[38;5;241m.\u001b[39m_exception_tb)\n\u001b[0;32m    202\u001b[0m \u001b[38;5;28;01mreturn\u001b[39;00m \u001b[38;5;28mself\u001b[39m\u001b[38;5;241m.\u001b[39m_result\n",
      "File \u001b[1;32m~\\.pyenv\\pyenv-win\\versions\\3.10.11\\lib\\asyncio\\tasks.py:232\u001b[0m, in \u001b[0;36mTask.__step\u001b[1;34m(***failed resolving arguments***)\u001b[0m\n\u001b[0;32m    228\u001b[0m \u001b[38;5;28;01mtry\u001b[39;00m:\n\u001b[0;32m    229\u001b[0m     \u001b[38;5;28;01mif\u001b[39;00m exc \u001b[38;5;129;01mis\u001b[39;00m \u001b[38;5;28;01mNone\u001b[39;00m:\n\u001b[0;32m    230\u001b[0m         \u001b[38;5;66;03m# We use the `send` method directly, because coroutines\u001b[39;00m\n\u001b[0;32m    231\u001b[0m         \u001b[38;5;66;03m# don't have `__iter__` and `__next__` methods.\u001b[39;00m\n\u001b[1;32m--> 232\u001b[0m         result \u001b[38;5;241m=\u001b[39m \u001b[43mcoro\u001b[49m\u001b[38;5;241;43m.\u001b[39;49m\u001b[43msend\u001b[49m\u001b[43m(\u001b[49m\u001b[38;5;28;43;01mNone\u001b[39;49;00m\u001b[43m)\u001b[49m\n\u001b[0;32m    233\u001b[0m     \u001b[38;5;28;01melse\u001b[39;00m:\n\u001b[0;32m    234\u001b[0m         result \u001b[38;5;241m=\u001b[39m coro\u001b[38;5;241m.\u001b[39mthrow(exc)\n",
      "File \u001b[1;32me:\\MahyDolphin\\Gsoc-2024-lg\\Coding_Period\\REPO\\LG-Gemma-AI-Touristic-info-tool\\AI_Gemma_Model\\gsoc_venv\\lib\\site-packages\\langchain_community\\document_loaders\\chromium.py:61\u001b[0m, in \u001b[0;36mAsyncChromiumLoader.ascrape_playwright\u001b[1;34m(self, url)\u001b[0m\n\u001b[0;32m     59\u001b[0m logger\u001b[38;5;241m.\u001b[39minfo(\u001b[38;5;124m\"\u001b[39m\u001b[38;5;124mStarting scraping...\u001b[39m\u001b[38;5;124m\"\u001b[39m)\n\u001b[0;32m     60\u001b[0m results \u001b[38;5;241m=\u001b[39m \u001b[38;5;124m\"\u001b[39m\u001b[38;5;124m\"\u001b[39m\n\u001b[1;32m---> 61\u001b[0m \u001b[38;5;28;01masync\u001b[39;00m \u001b[38;5;28;01mwith\u001b[39;00m async_playwright() \u001b[38;5;28;01mas\u001b[39;00m p:\n\u001b[0;32m     62\u001b[0m     browser \u001b[38;5;241m=\u001b[39m \u001b[38;5;28;01mawait\u001b[39;00m p\u001b[38;5;241m.\u001b[39mchromium\u001b[38;5;241m.\u001b[39mlaunch(headless\u001b[38;5;241m=\u001b[39m\u001b[38;5;28mself\u001b[39m\u001b[38;5;241m.\u001b[39mheadless)\n\u001b[0;32m     63\u001b[0m     \u001b[38;5;28;01mtry\u001b[39;00m:\n",
      "File \u001b[1;32me:\\MahyDolphin\\Gsoc-2024-lg\\Coding_Period\\REPO\\LG-Gemma-AI-Touristic-info-tool\\AI_Gemma_Model\\gsoc_venv\\lib\\site-packages\\playwright\\async_api\\_context_manager.py:46\u001b[0m, in \u001b[0;36mPlaywrightContextManager.__aenter__\u001b[1;34m(self)\u001b[0m\n\u001b[0;32m     44\u001b[0m \u001b[38;5;28;01mif\u001b[39;00m \u001b[38;5;129;01mnot\u001b[39;00m playwright_future\u001b[38;5;241m.\u001b[39mdone():\n\u001b[0;32m     45\u001b[0m     playwright_future\u001b[38;5;241m.\u001b[39mcancel()\n\u001b[1;32m---> 46\u001b[0m playwright \u001b[38;5;241m=\u001b[39m AsyncPlaywright(\u001b[38;5;28;43mnext\u001b[39;49m\u001b[43m(\u001b[49m\u001b[38;5;28;43miter\u001b[39;49m\u001b[43m(\u001b[49m\u001b[43mdone\u001b[49m\u001b[43m)\u001b[49m\u001b[43m)\u001b[49m\u001b[38;5;241;43m.\u001b[39;49m\u001b[43mresult\u001b[49m\u001b[43m(\u001b[49m\u001b[43m)\u001b[49m)\n\u001b[0;32m     47\u001b[0m playwright\u001b[38;5;241m.\u001b[39mstop \u001b[38;5;241m=\u001b[39m \u001b[38;5;28mself\u001b[39m\u001b[38;5;241m.\u001b[39m\u001b[38;5;21m__aexit__\u001b[39m  \u001b[38;5;66;03m# type: ignore\u001b[39;00m\n\u001b[0;32m     48\u001b[0m \u001b[38;5;28;01mreturn\u001b[39;00m playwright\n",
      "File \u001b[1;32m~\\.pyenv\\pyenv-win\\versions\\3.10.11\\lib\\asyncio\\futures.py:201\u001b[0m, in \u001b[0;36mFuture.result\u001b[1;34m(self)\u001b[0m\n\u001b[0;32m    199\u001b[0m \u001b[38;5;28mself\u001b[39m\u001b[38;5;241m.\u001b[39m__log_traceback \u001b[38;5;241m=\u001b[39m \u001b[38;5;28;01mFalse\u001b[39;00m\n\u001b[0;32m    200\u001b[0m \u001b[38;5;28;01mif\u001b[39;00m \u001b[38;5;28mself\u001b[39m\u001b[38;5;241m.\u001b[39m_exception \u001b[38;5;129;01mis\u001b[39;00m \u001b[38;5;129;01mnot\u001b[39;00m \u001b[38;5;28;01mNone\u001b[39;00m:\n\u001b[1;32m--> 201\u001b[0m     \u001b[38;5;28;01mraise\u001b[39;00m \u001b[38;5;28mself\u001b[39m\u001b[38;5;241m.\u001b[39m_exception\u001b[38;5;241m.\u001b[39mwith_traceback(\u001b[38;5;28mself\u001b[39m\u001b[38;5;241m.\u001b[39m_exception_tb)\n\u001b[0;32m    202\u001b[0m \u001b[38;5;28;01mreturn\u001b[39;00m \u001b[38;5;28mself\u001b[39m\u001b[38;5;241m.\u001b[39m_result\n",
      "File \u001b[1;32me:\\MahyDolphin\\Gsoc-2024-lg\\Coding_Period\\REPO\\LG-Gemma-AI-Touristic-info-tool\\AI_Gemma_Model\\gsoc_venv\\lib\\site-packages\\playwright\\_impl\\_transport.py:120\u001b[0m, in \u001b[0;36mPipeTransport.connect\u001b[1;34m(self)\u001b[0m\n\u001b[0;32m    117\u001b[0m         startupinfo\u001b[38;5;241m.\u001b[39mwShowWindow \u001b[38;5;241m=\u001b[39m subprocess\u001b[38;5;241m.\u001b[39mSW_HIDE\n\u001b[0;32m    119\u001b[0m     executable_path, entrypoint_path \u001b[38;5;241m=\u001b[39m compute_driver_executable()\n\u001b[1;32m--> 120\u001b[0m     \u001b[38;5;28mself\u001b[39m\u001b[38;5;241m.\u001b[39m_proc \u001b[38;5;241m=\u001b[39m \u001b[38;5;28;01mawait\u001b[39;00m asyncio\u001b[38;5;241m.\u001b[39mcreate_subprocess_exec(\n\u001b[0;32m    121\u001b[0m         executable_path,\n\u001b[0;32m    122\u001b[0m         entrypoint_path,\n\u001b[0;32m    123\u001b[0m         \u001b[38;5;124m\"\u001b[39m\u001b[38;5;124mrun-driver\u001b[39m\u001b[38;5;124m\"\u001b[39m,\n\u001b[0;32m    124\u001b[0m         stdin\u001b[38;5;241m=\u001b[39masyncio\u001b[38;5;241m.\u001b[39msubprocess\u001b[38;5;241m.\u001b[39mPIPE,\n\u001b[0;32m    125\u001b[0m         stdout\u001b[38;5;241m=\u001b[39masyncio\u001b[38;5;241m.\u001b[39msubprocess\u001b[38;5;241m.\u001b[39mPIPE,\n\u001b[0;32m    126\u001b[0m         stderr\u001b[38;5;241m=\u001b[39m_get_stderr_fileno(),\n\u001b[0;32m    127\u001b[0m         limit\u001b[38;5;241m=\u001b[39m\u001b[38;5;241m32768\u001b[39m,\n\u001b[0;32m    128\u001b[0m         env\u001b[38;5;241m=\u001b[39menv,\n\u001b[0;32m    129\u001b[0m         startupinfo\u001b[38;5;241m=\u001b[39mstartupinfo,\n\u001b[0;32m    130\u001b[0m     )\n\u001b[0;32m    131\u001b[0m \u001b[38;5;28;01mexcept\u001b[39;00m \u001b[38;5;167;01mException\u001b[39;00m \u001b[38;5;28;01mas\u001b[39;00m exc:\n\u001b[0;32m    132\u001b[0m     \u001b[38;5;28mself\u001b[39m\u001b[38;5;241m.\u001b[39mon_error_future\u001b[38;5;241m.\u001b[39mset_exception(exc)\n",
      "File \u001b[1;32m~\\.pyenv\\pyenv-win\\versions\\3.10.11\\lib\\asyncio\\subprocess.py:218\u001b[0m, in \u001b[0;36mcreate_subprocess_exec\u001b[1;34m(program, stdin, stdout, stderr, limit, *args, **kwds)\u001b[0m\n\u001b[0;32m    215\u001b[0m loop \u001b[38;5;241m=\u001b[39m events\u001b[38;5;241m.\u001b[39mget_running_loop()\n\u001b[0;32m    216\u001b[0m protocol_factory \u001b[38;5;241m=\u001b[39m \u001b[38;5;28;01mlambda\u001b[39;00m: SubprocessStreamProtocol(limit\u001b[38;5;241m=\u001b[39mlimit,\n\u001b[0;32m    217\u001b[0m                                                     loop\u001b[38;5;241m=\u001b[39mloop)\n\u001b[1;32m--> 218\u001b[0m transport, protocol \u001b[38;5;241m=\u001b[39m \u001b[38;5;28;01mawait\u001b[39;00m loop\u001b[38;5;241m.\u001b[39msubprocess_exec(\n\u001b[0;32m    219\u001b[0m     protocol_factory,\n\u001b[0;32m    220\u001b[0m     program, \u001b[38;5;241m*\u001b[39margs,\n\u001b[0;32m    221\u001b[0m     stdin\u001b[38;5;241m=\u001b[39mstdin, stdout\u001b[38;5;241m=\u001b[39mstdout,\n\u001b[0;32m    222\u001b[0m     stderr\u001b[38;5;241m=\u001b[39mstderr, \u001b[38;5;241m*\u001b[39m\u001b[38;5;241m*\u001b[39mkwds)\n\u001b[0;32m    223\u001b[0m \u001b[38;5;28;01mreturn\u001b[39;00m Process(transport, protocol, loop)\n",
      "File \u001b[1;32m~\\.pyenv\\pyenv-win\\versions\\3.10.11\\lib\\asyncio\\base_events.py:1681\u001b[0m, in \u001b[0;36mBaseEventLoop.subprocess_exec\u001b[1;34m(self, protocol_factory, program, stdin, stdout, stderr, universal_newlines, shell, bufsize, encoding, errors, text, *args, **kwargs)\u001b[0m\n\u001b[0;32m   1679\u001b[0m     debug_log \u001b[38;5;241m=\u001b[39m \u001b[38;5;124mf\u001b[39m\u001b[38;5;124m'\u001b[39m\u001b[38;5;124mexecute program \u001b[39m\u001b[38;5;132;01m{\u001b[39;00mprogram\u001b[38;5;132;01m!r}\u001b[39;00m\u001b[38;5;124m'\u001b[39m\n\u001b[0;32m   1680\u001b[0m     \u001b[38;5;28mself\u001b[39m\u001b[38;5;241m.\u001b[39m_log_subprocess(debug_log, stdin, stdout, stderr)\n\u001b[1;32m-> 1681\u001b[0m transport \u001b[38;5;241m=\u001b[39m \u001b[38;5;28;01mawait\u001b[39;00m \u001b[38;5;28mself\u001b[39m\u001b[38;5;241m.\u001b[39m_make_subprocess_transport(\n\u001b[0;32m   1682\u001b[0m     protocol, popen_args, \u001b[38;5;28;01mFalse\u001b[39;00m, stdin, stdout, stderr,\n\u001b[0;32m   1683\u001b[0m     bufsize, \u001b[38;5;241m*\u001b[39m\u001b[38;5;241m*\u001b[39mkwargs)\n\u001b[0;32m   1684\u001b[0m \u001b[38;5;28;01mif\u001b[39;00m \u001b[38;5;28mself\u001b[39m\u001b[38;5;241m.\u001b[39m_debug \u001b[38;5;129;01mand\u001b[39;00m debug_log \u001b[38;5;129;01mis\u001b[39;00m \u001b[38;5;129;01mnot\u001b[39;00m \u001b[38;5;28;01mNone\u001b[39;00m:\n\u001b[0;32m   1685\u001b[0m     logger\u001b[38;5;241m.\u001b[39minfo(\u001b[38;5;124m'\u001b[39m\u001b[38;5;132;01m%s\u001b[39;00m\u001b[38;5;124m: \u001b[39m\u001b[38;5;132;01m%r\u001b[39;00m\u001b[38;5;124m'\u001b[39m, debug_log, transport)\n",
      "File \u001b[1;32m~\\.pyenv\\pyenv-win\\versions\\3.10.11\\lib\\asyncio\\base_events.py:498\u001b[0m, in \u001b[0;36mBaseEventLoop._make_subprocess_transport\u001b[1;34m(self, protocol, args, shell, stdin, stdout, stderr, bufsize, extra, **kwargs)\u001b[0m\n\u001b[0;32m    494\u001b[0m \u001b[38;5;28;01masync\u001b[39;00m \u001b[38;5;28;01mdef\u001b[39;00m \u001b[38;5;21m_make_subprocess_transport\u001b[39m(\u001b[38;5;28mself\u001b[39m, protocol, args, shell,\n\u001b[0;32m    495\u001b[0m                                      stdin, stdout, stderr, bufsize,\n\u001b[0;32m    496\u001b[0m                                      extra\u001b[38;5;241m=\u001b[39m\u001b[38;5;28;01mNone\u001b[39;00m, \u001b[38;5;241m*\u001b[39m\u001b[38;5;241m*\u001b[39mkwargs):\n\u001b[0;32m    497\u001b[0m \u001b[38;5;250m    \u001b[39m\u001b[38;5;124;03m\"\"\"Create subprocess transport.\"\"\"\u001b[39;00m\n\u001b[1;32m--> 498\u001b[0m     \u001b[38;5;28;01mraise\u001b[39;00m \u001b[38;5;167;01mNotImplementedError\u001b[39;00m\n",
      "\u001b[1;31mNotImplementedError\u001b[0m: "
     ]
    }
   ],
   "source": [
    "loader =  AsyncChromiumLoader(general_fetched_urls, user_agent=\"MyAppUserAgent\",)\n",
    "docs=  loader.load()\n",
    "print(len(docs))"
   ]
  },
  {
   "cell_type": "code",
   "execution_count": null,
   "metadata": {},
   "outputs": [
    {
     "ename": "TypeError",
     "evalue": "'coroutine' object is not iterable",
     "output_type": "error",
     "traceback": [
      "\u001b[1;31m---------------------------------------------------------------------------\u001b[0m",
      "\u001b[1;31mTypeError\u001b[0m                                 Traceback (most recent call last)",
      "Cell \u001b[1;32mIn[53], line 2\u001b[0m\n\u001b[0;32m      1\u001b[0m html2text \u001b[38;5;241m=\u001b[39m Html2TextTransformer()\n\u001b[1;32m----> 2\u001b[0m docs_transformed \u001b[38;5;241m=\u001b[39m \u001b[43mhtml2text\u001b[49m\u001b[38;5;241;43m.\u001b[39;49m\u001b[43mtransform_documents\u001b[49m\u001b[43m(\u001b[49m\u001b[43mdocs\u001b[49m\u001b[43m)\u001b[49m\n\u001b[0;32m      3\u001b[0m \u001b[38;5;66;03m# docs_transformed[0].page_content[0:500]\u001b[39;00m\n\u001b[0;32m      4\u001b[0m \u001b[38;5;28mprint\u001b[39m(\u001b[38;5;124mf\u001b[39m\u001b[38;5;124m'\u001b[39m\u001b[38;5;124mdocs_transformed 0:\u001b[39m\u001b[38;5;132;01m{\u001b[39;00mdocs_transformed[\u001b[38;5;241m0\u001b[39m]\u001b[38;5;132;01m}\u001b[39;00m\u001b[38;5;124m'\u001b[39m)\n",
      "File \u001b[1;32me:\\MahyDolphin\\Gsoc-2024-lg\\Coding_Period\\REPO\\LG-Gemma-AI-Touristic-info-tool\\AI_Gemma_Model\\gsoc_venv\\lib\\site-packages\\langchain_community\\document_transformers\\html2text.py:44\u001b[0m, in \u001b[0;36mHtml2TextTransformer.transform_documents\u001b[1;34m(self, documents, **kwargs)\u001b[0m\n\u001b[0;32m     40\u001b[0m h\u001b[38;5;241m.\u001b[39mignore_images \u001b[38;5;241m=\u001b[39m \u001b[38;5;28mself\u001b[39m\u001b[38;5;241m.\u001b[39mignore_images\n\u001b[0;32m     42\u001b[0m new_documents \u001b[38;5;241m=\u001b[39m []\n\u001b[1;32m---> 44\u001b[0m \u001b[38;5;28;01mfor\u001b[39;00m d \u001b[38;5;129;01min\u001b[39;00m documents:\n\u001b[0;32m     45\u001b[0m     new_document \u001b[38;5;241m=\u001b[39m Document(\n\u001b[0;32m     46\u001b[0m         page_content\u001b[38;5;241m=\u001b[39mh\u001b[38;5;241m.\u001b[39mhandle(d\u001b[38;5;241m.\u001b[39mpage_content), metadata\u001b[38;5;241m=\u001b[39m{\u001b[38;5;241m*\u001b[39m\u001b[38;5;241m*\u001b[39md\u001b[38;5;241m.\u001b[39mmetadata}\n\u001b[0;32m     47\u001b[0m     )\n\u001b[0;32m     48\u001b[0m     new_documents\u001b[38;5;241m.\u001b[39mappend(new_document)\n",
      "\u001b[1;31mTypeError\u001b[0m: 'coroutine' object is not iterable"
     ]
    }
   ],
   "source": [
    "html2text = Html2TextTransformer()\n",
    "docs_transformed = html2text.transform_documents(docs)\n",
    "# docs_transformed[0].page_content[0:500]\n",
    "print(f'docs_transformed 0:{docs_transformed[0]}')\n",
    "print(f'docs_transformed 1:{docs_transformed[1]}')\n",
    "print(f'docs_transformed 2:{docs_transformed[2]}')"
   ]
  },
  {
   "cell_type": "code",
   "execution_count": null,
   "metadata": {},
   "outputs": [],
   "source": [
    "\n",
    "\n",
    "text_splitter = RecursiveCharacterTextSplitter(chunk_size=1000, chunk_overlap=200)\n",
    "splits = text_splitter.split_documents(docs_transformed)\n",
    "vectorstore = Chroma.from_documents(documents=splits, embedding=embeddings)\n",
    "print('vectorestore initialized')\n",
    "# Retrieve and generate using the relevant snippets of the blog.\n",
    "retriever = vectorstore.as_retriever()\n",
    "print('retriever initialized')\n",
    "\n",
    "\n"
   ]
  },
  {
   "cell_type": "code",
   "execution_count": null,
   "metadata": {},
   "outputs": [],
   "source": [
    "def format_docs(docs):\n",
    "    return \"\\n\\n\".join(doc.page_content for doc in docs)\n"
   ]
  },
  {
   "cell_type": "code",
   "execution_count": null,
   "metadata": {},
   "outputs": [],
   "source": [
    "\n",
    "\n",
    "prompt = PromptTemplate(\n",
    "                                input_variables = ['question', 'context'], \n",
    "                                template=\n",
    "                                '''\n",
    "                                You are a helpful touristic advisor bot. Your name is Adventura.\n",
    "                                You help people find the best places to visit, eat and stay nearby their location.\n",
    "                                Can you find me 10 places for {question} and include all details like:\n",
    "                                - name\n",
    "                                - description\n",
    "                                - genre\n",
    "                                - rating\n",
    "                                - opening hours\n",
    "                                - closing hours\n",
    "                                - accurate address_location\n",
    "                                - Link to their website\n",
    "                                - any interesting information you have on them \n",
    "                                using this extra context: {context}\n",
    "                                '''\n",
    "                                )\n"
   ]
  },
  {
   "cell_type": "code",
   "execution_count": null,
   "metadata": {},
   "outputs": [],
   "source": [
    "rag_chain = (\n",
    "    {\"context\": retriever | format_docs, \"question\": RunnablePassthrough()}\n",
    "    | prompt\n",
    "    | llm\n",
    "    | StrOutputParser()\n",
    ")"
   ]
  },
  {
   "cell_type": "code",
   "execution_count": null,
   "metadata": {},
   "outputs": [],
   "source": [
    "\n",
    "input_data = {\n",
    "    'question': question,\n",
    "}\n"
   ]
  },
  {
   "cell_type": "code",
   "execution_count": null,
   "metadata": {},
   "outputs": [],
   "source": [
    "\n",
    "print('Asking the model:')\n",
    "llm_results=rag_chain.invoke(input=input_data)\n",
    "print(llm_results)\n"
   ]
  },
  {
   "cell_type": "code",
   "execution_count": null,
   "metadata": {},
   "outputs": [],
   "source": [
    "\n",
    "elapsed_time = time.time() - start_time\n",
    "print(f\"Execution time: {elapsed_time:.2f} seconds\")\n"
   ]
  },
  {
   "cell_type": "code",
   "execution_count": null,
   "metadata": {},
   "outputs": [],
   "source": [
    "\n",
    "# cleanup\n",
    "vectorstore.delete_collection()"
   ]
  }
 ],
 "metadata": {
  "kernelspec": {
   "display_name": "gsoc_venv",
   "language": "python",
   "name": "python3"
  },
  "language_info": {
   "codemirror_mode": {
    "name": "ipython",
    "version": 3
   },
   "file_extension": ".py",
   "mimetype": "text/x-python",
   "name": "python",
   "nbconvert_exporter": "python",
   "pygments_lexer": "ipython3",
   "version": "3.10.11"
  }
 },
 "nbformat": 4,
 "nbformat_minor": 2
}
